{
  "nbformat": 4,
  "nbformat_minor": 0,
  "metadata": {
    "colab": {
      "name": "make-up recommender.ipynb",
      "provenance": [],
      "authorship_tag": "ABX9TyOpanwTPjaofglq0Ke2Fw1x",
      "include_colab_link": true
    },
    "kernelspec": {
      "name": "python3",
      "display_name": "Python 3"
    }
  },
  "cells": [
    {
      "cell_type": "markdown",
      "metadata": {
        "id": "view-in-github",
        "colab_type": "text"
      },
      "source": [
        "<a href=\"https://colab.research.google.com/github/Techiefrankie/ml-basics/blob/master/make_up_recommender.ipynb\" target=\"_parent\"><img src=\"https://colab.research.google.com/assets/colab-badge.svg\" alt=\"Open In Colab\"/></a>"
      ]
    },
    {
      "cell_type": "code",
      "metadata": {
        "id": "tI7eDRVGDv_r",
        "colab_type": "code",
        "colab": {}
      },
      "source": [
        ""
      ],
      "execution_count": null,
      "outputs": []
    },
    {
      "cell_type": "markdown",
      "metadata": {
        "id": "i6tDFhNuD32i",
        "colab_type": "text"
      },
      "source": [
        "# **This notebook demonstrates using Convolutional Neural Network CNN model trained with pictures of different make-up styles for the appropriate faces to recommend make-up style most appropriate to new faces.**"
      ]
    },
    {
      "cell_type": "code",
      "metadata": {
        "id": "QIcDIG_iEYMh",
        "colab_type": "code",
        "colab": {}
      },
      "source": [
        ""
      ],
      "execution_count": null,
      "outputs": []
    },
    {
      "cell_type": "markdown",
      "metadata": {
        "id": "-MN2fsoFE3r6",
        "colab_type": "text"
      },
      "source": [
        "# **Import Framework**\n",
        "\n",
        "First, let's import the needed libraries"
      ]
    },
    {
      "cell_type": "code",
      "metadata": {
        "id": "tJcskEk5FFP4",
        "colab_type": "code",
        "colab": {
          "base_uri": "https://localhost:8080/",
          "height": 68
        },
        "outputId": "a2cd70c2-7e9e-493e-f141-aa0402738187"
      },
      "source": [
        "import tensorflow\n",
        "from  tensorflow import keras\n",
        "print('TensorFlow version:',tensorflow.__version__)\n",
        "print('Keras version:',keras.__version__)\n",
        "print('Done importing libraries...')"
      ],
      "execution_count": 1,
      "outputs": [
        {
          "output_type": "stream",
          "text": [
            "TensorFlow version: 2.3.0\n",
            "Keras version: 2.4.0\n",
            "Done importing libraries...\n"
          ],
          "name": "stdout"
        }
      ]
    },
    {
      "cell_type": "code",
      "metadata": {
        "id": "xh1_wLuuFX9n",
        "colab_type": "code",
        "colab": {}
      },
      "source": [
        ""
      ],
      "execution_count": null,
      "outputs": []
    },
    {
      "cell_type": "markdown",
      "metadata": {
        "id": "CV-zr3j3G8QX",
        "colab_type": "text"
      },
      "source": [
        "# **Link Google Drive** \n",
        "Configure colab to load datasets from Google drive"
      ]
    },
    {
      "cell_type": "code",
      "metadata": {
        "id": "Y8T9WXvgHWEj",
        "colab_type": "code",
        "colab": {
          "base_uri": "https://localhost:8080/",
          "height": 34
        },
        "outputId": "4bea5205-6459-4b32-cb41-559d1dd15fbf"
      },
      "source": [
        "from google.colab import drive\n",
        "drive.mount('/content/gdrive')"
      ],
      "execution_count": 18,
      "outputs": [
        {
          "output_type": "stream",
          "text": [
            "Drive already mounted at /content/gdrive; to attempt to forcibly remount, call drive.mount(\"/content/gdrive\", force_remount=True).\n"
          ],
          "name": "stdout"
        }
      ]
    },
    {
      "cell_type": "code",
      "metadata": {
        "id": "-BH8ivmIHtgZ",
        "colab_type": "code",
        "colab": {
          "base_uri": "https://localhost:8080/",
          "height": 34
        },
        "outputId": "8e029f36-c4e6-473e-a7d7-7a26f46d6d2d"
      },
      "source": [
        "!ls '/content/gdrive/My Drive/project/dataset/'"
      ],
      "execution_count": 19,
      "outputs": [
        {
          "output_type": "stream",
          "text": [
            "after  before\n"
          ],
          "name": "stdout"
        }
      ]
    },
    {
      "cell_type": "code",
      "metadata": {
        "id": "TZYksPeWIRvV",
        "colab_type": "code",
        "colab": {
          "base_uri": "https://localhost:8080/",
          "height": 119
        },
        "outputId": "3efcde86-a24c-444b-cfa4-7cd69a68f09f"
      },
      "source": [
        "from tensorflow.keras.preprocessing.image import ImageDataGenerator\n",
        "\n",
        "data_folder = '/content/gdrive/My Drive/project/dataset/'\n",
        "img_size = (128, 128)\n",
        "batch_size = 20\n",
        "\n",
        "print(\"Getting Data...\")\n",
        "datagen = ImageDataGenerator(rescale=1./255, # normalize pixel values\n",
        "                             validation_split=0.2) # hold back 20% of the images for validation\n",
        "\n",
        "print(\"Preparing training dataset...\")\n",
        "train_generator = datagen.flow_from_directory(\n",
        "    data_folder,\n",
        "    target_size=img_size,\n",
        "    batch_size=batch_size,\n",
        "    class_mode='categorical',\n",
        "    subset='training') # set as training data\n",
        "\n",
        "print(\"Preparing validation dataset...\")\n",
        "validation_generator = datagen.flow_from_directory(\n",
        "    data_folder,\n",
        "    target_size=img_size,\n",
        "    batch_size=batch_size,\n",
        "    class_mode='categorical',\n",
        "    subset='validation') # set as validation data\n",
        "\n",
        "classnames = list(train_generator.class_indices.keys())\n",
        "print(\"class names: \", classnames)"
      ],
      "execution_count": 20,
      "outputs": [
        {
          "output_type": "stream",
          "text": [
            "Getting Data...\n",
            "Preparing training dataset...\n",
            "Found 239 images belonging to 2 classes.\n",
            "Preparing validation dataset...\n",
            "Found 58 images belonging to 2 classes.\n",
            "class names:  ['after', 'before']\n"
          ],
          "name": "stdout"
        }
      ]
    },
    {
      "cell_type": "code",
      "metadata": {
        "id": "DriOSenZKCfG",
        "colab_type": "code",
        "colab": {
          "base_uri": "https://localhost:8080/",
          "height": 476
        },
        "outputId": "cd947934-5fca-4b26-ae82-9987b641526d"
      },
      "source": [
        "# Define a CNN classifier network\n",
        "from tensorflow.keras.models import Sequential\n",
        "from tensorflow.keras.layers import Conv2D, MaxPooling2D, Dropout, Flatten, Dense\n",
        "\n",
        "# Define the model as a sequence of layers\n",
        "model = Sequential()\n",
        "\n",
        "# The input layer accepts an image and applies a convolution that uses 32 6x6 filters and a rectified linear unit activation function\n",
        "model.add(Conv2D(32, (6, 6), input_shape=train_generator.image_shape, activation='relu'))\n",
        "\n",
        "# Next we;ll add a max pooling layer with a 2x2 patch\n",
        "model.add(MaxPooling2D(pool_size=(2,2)))\n",
        "\n",
        "# We can add as many layers as we think necessary - here we'll add another convolution, max pooling, and dropout layer\n",
        "model.add(Conv2D(32, (6, 6), activation='relu'))\n",
        "model.add(MaxPooling2D(pool_size=(2, 2)))\n",
        "\n",
        "# And another set\n",
        "model.add(Conv2D(32, (6, 6), activation='relu'))\n",
        "model.add(MaxPooling2D(pool_size=(2, 2)))\n",
        "\n",
        "# A dropout layer randomly drops some nodes to reduce inter-dependencies (which can cause over-fitting)\n",
        "model.add(Dropout(0.2))\n",
        "\n",
        "# Now we'll flatten the feature maps and generate an output layer with a predicted probability for each class\n",
        "model.add(Flatten())\n",
        "model.add(Dense(train_generator.num_classes, activation='sigmoid'))\n",
        "\n",
        "# With the layers defined, we can now compile the model for categorical (multi-class) classification\n",
        "model.compile(loss='categorical_crossentropy',\n",
        "              optimizer='adam',\n",
        "              metrics=['accuracy'])\n",
        "\n",
        "print(model.summary())"
      ],
      "execution_count": 21,
      "outputs": [
        {
          "output_type": "stream",
          "text": [
            "Model: \"sequential_1\"\n",
            "_________________________________________________________________\n",
            "Layer (type)                 Output Shape              Param #   \n",
            "=================================================================\n",
            "conv2d_3 (Conv2D)            (None, 123, 123, 32)      3488      \n",
            "_________________________________________________________________\n",
            "max_pooling2d_3 (MaxPooling2 (None, 61, 61, 32)        0         \n",
            "_________________________________________________________________\n",
            "conv2d_4 (Conv2D)            (None, 56, 56, 32)        36896     \n",
            "_________________________________________________________________\n",
            "max_pooling2d_4 (MaxPooling2 (None, 28, 28, 32)        0         \n",
            "_________________________________________________________________\n",
            "conv2d_5 (Conv2D)            (None, 23, 23, 32)        36896     \n",
            "_________________________________________________________________\n",
            "max_pooling2d_5 (MaxPooling2 (None, 11, 11, 32)        0         \n",
            "_________________________________________________________________\n",
            "dropout_1 (Dropout)          (None, 11, 11, 32)        0         \n",
            "_________________________________________________________________\n",
            "flatten_1 (Flatten)          (None, 3872)              0         \n",
            "_________________________________________________________________\n",
            "dense_1 (Dense)              (None, 2)                 7746      \n",
            "=================================================================\n",
            "Total params: 85,026\n",
            "Trainable params: 85,026\n",
            "Non-trainable params: 0\n",
            "_________________________________________________________________\n",
            "None\n"
          ],
          "name": "stdout"
        }
      ]
    },
    {
      "cell_type": "code",
      "metadata": {
        "id": "f1Z7qnlUWbB0",
        "colab_type": "code",
        "colab": {
          "base_uri": "https://localhost:8080/",
          "height": 187
        },
        "outputId": "c38cae11-e952-402b-8b01-b119d177b8bd"
      },
      "source": [
        "# Train the model over 5 epochs using 20-image batches and using the validation holdout dataset for validation\n",
        "num_epochs = 5\n",
        "history = model.fit(\n",
        "    train_generator,\n",
        "    steps_per_epoch = train_generator.samples // batch_size,\n",
        "    validation_data = validation_generator, \n",
        "    validation_steps = validation_generator.samples // batch_size,\n",
        "    epochs = num_epochs)"
      ],
      "execution_count": 22,
      "outputs": [
        {
          "output_type": "stream",
          "text": [
            "Epoch 1/5\n",
            "11/11 [==============================] - 11s 1s/step - loss: 0.7444 - accuracy: 0.4955 - val_loss: 0.6933 - val_accuracy: 0.5000\n",
            "Epoch 2/5\n",
            "11/11 [==============================] - 11s 1s/step - loss: 0.6930 - accuracy: 0.5068 - val_loss: 0.6935 - val_accuracy: 0.4750\n",
            "Epoch 3/5\n",
            "11/11 [==============================] - 11s 980ms/step - loss: 0.6924 - accuracy: 0.5068 - val_loss: 0.6947 - val_accuracy: 0.4500\n",
            "Epoch 4/5\n",
            "11/11 [==============================] - 11s 1000ms/step - loss: 0.6903 - accuracy: 0.5479 - val_loss: 0.6905 - val_accuracy: 0.5000\n",
            "Epoch 5/5\n",
            "11/11 [==============================] - 11s 998ms/step - loss: 0.6915 - accuracy: 0.5388 - val_loss: 0.6851 - val_accuracy: 0.6250\n"
          ],
          "name": "stdout"
        }
      ]
    },
    {
      "cell_type": "markdown",
      "metadata": {
        "id": "2zlpWY-oXP-R",
        "colab_type": "text"
      },
      "source": [
        "# **View the Loss History**\n",
        "\n",
        "We tracked average training and validation loss history for each epoch. We can plot these to verify that loss reduced as the model was trained, and to detect overfitting (which is indicated by a continued drop in training loss after validation loss has levelled out or started to increase."
      ]
    },
    {
      "cell_type": "code",
      "metadata": {
        "id": "-Jm42HX_WlfW",
        "colab_type": "code",
        "colab": {
          "base_uri": "https://localhost:8080/",
          "height": 279
        },
        "outputId": "94d8677a-9e76-40a2-fa27-125fad64cd1f"
      },
      "source": [
        "%matplotlib inline\n",
        "from matplotlib import pyplot as plt\n",
        "\n",
        "epoch_nums = range(1,num_epochs+1)\n",
        "training_loss = history.history[\"loss\"]\n",
        "validation_loss = history.history[\"val_loss\"]\n",
        "plt.plot(epoch_nums, training_loss)\n",
        "plt.plot(epoch_nums, validation_loss)\n",
        "plt.xlabel('epoch')\n",
        "plt.ylabel('loss')\n",
        "plt.legend(['training', 'validation'], loc='upper right')\n",
        "plt.show()"
      ],
      "execution_count": 24,
      "outputs": [
        {
          "output_type": "display_data",
          "data": {
            "image/png": "[encoded data removed]",
            "text/plain": [
              "<Figure size 432x288 with 1 Axes>"
            ]
          },
          "metadata": {
            "tags": [],
            "needs_background": "light"
          }
        }
      ]
    },
    {
      "cell_type": "code",
      "metadata": {
        "id": "ljpzFYBbXXm5",
        "colab_type": "code",
        "colab": {
          "base_uri": "https://localhost:8080/",
          "height": 323
        },
        "outputId": "64ea98cf-42af-4ff5-e76e-1b356833be7f"
      },
      "source": [
        "# Tensorflow doesn't have a built-in confusion matrix metric, so we'll use SciKit-Learn\n",
        "import numpy as np\n",
        "from sklearn.metrics import confusion_matrix\n",
        "import matplotlib.pyplot as plt\n",
        "%matplotlib inline\n",
        "\n",
        "print(\"Generating predictions from validation data...\")\n",
        "# Get the image and label arrays for the first batch of validation data\n",
        "x_test = validation_generator[0][0]\n",
        "y_test = validation_generator[0][1]\n",
        "\n",
        "# Use the moedl to predict the class\n",
        "class_probabilities = model.predict(x_test)\n",
        "\n",
        "# The model returns a probability value for each class\n",
        "# The one with the highest probability is the predicted class\n",
        "predictions = np.argmax(class_probabilities, axis=1)\n",
        "\n",
        "# The actual labels are hot encoded (e.g. [0 1 0], so get the one with the value 1\n",
        "true_labels = np.argmax(y_test, axis=1)\n",
        "\n",
        "# Plot the confusion matrix\n",
        "cm = confusion_matrix(true_labels, predictions)\n",
        "plt.imshow(cm, interpolation=\"nearest\", cmap=plt.cm.Blues)\n",
        "plt.colorbar()\n",
        "tick_marks = np.arange(len(classnames))\n",
        "plt.xticks(tick_marks, classnames, rotation=85)\n",
        "plt.yticks(tick_marks, classnames)\n",
        "plt.xlabel(\"Predicted face make-up\")\n",
        "plt.ylabel(\"Actual Face Make-up\")\n",
        "plt.show()"
      ],
      "execution_count": 26,
      "outputs": [
        {
          "output_type": "stream",
          "text": [
            "Generating predictions from validation data...\n"
          ],
          "name": "stdout"
        },
        {
          "output_type": "display_data",
          "data": {
            "image/png": "[encoded data removed]",
            "text/plain": [
              "<Figure size 432x288 with 2 Axes>"
            ]
          },
          "metadata": {
            "tags": [],
            "needs_background": "light"
          }
        }
      ]
    },
    {
      "cell_type": "markdown",
      "metadata": {
        "id": "Cdl27vbBXx__",
        "colab_type": "text"
      },
      "source": [
        "# **Predicting with the Trained Model**"
      ]
    },
    {
      "cell_type": "code",
      "metadata": {
        "id": "dvHdHk4cXinH",
        "colab_type": "code",
        "colab": {
          "base_uri": "https://localhost:8080/",
          "height": 302
        },
        "outputId": "56ac3e24-0e89-4e43-dcad-a77697da3e1f"
      },
      "source": [
        "from tensorflow.keras import models\n",
        "from random import randint\n",
        "import os\n",
        "%matplotlib inline\n",
        "\n",
        "# Function to create a random image (of a square, circle, or triangle)\n",
        "def create_image (size, shape):\n",
        "    from random import randint\n",
        "    import numpy as np\n",
        "    from PIL import Image, ImageDraw\n",
        "    \n",
        "    xy1 = randint(10,40)\n",
        "    xy2 = randint(60,100)\n",
        "    col = (randint(0,200), randint(0,200), randint(0,200))\n",
        "\n",
        "    img = Image.new(\"RGB\", size, (255, 255, 255))\n",
        "    draw = ImageDraw.Draw(img)\n",
        "    \n",
        "    if shape == 'before':\n",
        "        draw.ellipse([(xy1,xy1), (xy2,xy2)], fill=col)\n",
        "    elif shape == 'after':\n",
        "        draw.polygon([(xy1,xy1), (xy2,xy2), (xy2,xy1)], fill=col)\n",
        "    \n",
        "    return np.array(img)\n",
        "\n",
        "# Save the trained model\n",
        "modelFileName = '/content/gdrive/My Drive/project/model/recommender_classifier.h5'\n",
        "model.save(modelFileName)\n",
        "del model  # deletes the existing model variable\n",
        "\n",
        "# Create a random test image\n",
        "classnames = os.listdir(os.path.join('/content/gdrive/My Drive/project', 'dataset'))\n",
        "classnames.sort()\n",
        "img = create_image ((128,128), classnames[randint(0, len(classnames)-1)])\n",
        "plt.axis('off')\n",
        "plt.imshow(img)\n",
        "\n",
        "# The model expects a batch of images as input, so we'll create an array of 1 image\n",
        "imgfeatures = img.reshape(1, img.shape[0], img.shape[1], img.shape[2])\n",
        "\n",
        "# We need to format the input to match the training data\n",
        "# The generator loaded the values as floating point numbers\n",
        "# and normalized the pixel values, so...\n",
        "imgfeatures = imgfeatures.astype('float32')\n",
        "imgfeatures /= 255\n",
        "\n",
        "# Use the classifier to predict the class\n",
        "model = models.load_model(modelFileName) # loads the saved model\n",
        "class_probabilities = model.predict(imgfeatures)\n",
        "# Find the class predictions with the highest predicted probability\n",
        "class_idx = np.argmax(class_probabilities, axis=1)\n",
        "print (classnames[int(class_idx[0])])"
      ],
      "execution_count": 14,
      "outputs": [
        {
          "output_type": "stream",
          "text": [
            "WARNING:tensorflow:7 out of the last 7 calls to <function Model.make_predict_function.<locals>.predict_function at 0x7f38f92b38c8> triggered tf.function retracing. Tracing is expensive and the excessive number of tracings could be due to (1) creating @tf.function repeatedly in a loop, (2) passing tensors with different shapes, (3) passing Python objects instead of tensors. For (1), please define your @tf.function outside of the loop. For (2), @tf.function has experimental_relax_shapes=True option that relaxes argument shapes that can avoid unnecessary retracing. For (3), please refer to https://www.tensorflow.org/tutorials/customization/performance#python_or_tensor_args and https://www.tensorflow.org/api_docs/python/tf/function for  more details.\n",
            "before\n"
          ],
          "name": "stdout"
        },
        {
          "output_type": "display_data",
          "data": {
            "image/png": "[encoded data removed]",
            "text/plain": [
              "<Figure size 432x288 with 1 Axes>"
            ]
          },
          "metadata": {
            "tags": [],
            "needs_background": "light"
          }
        }
      ]
    },
    {
      "cell_type": "code",
      "metadata": {
        "id": "LLFHYX4CYxNv",
        "colab_type": "code",
        "colab": {}
      },
      "source": [
        ""
      ],
      "execution_count": 20,
      "outputs": []
    }
  ]
}